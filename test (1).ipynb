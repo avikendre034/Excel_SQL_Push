{
 "cells": [
  {
   "cell_type": "code",
   "execution_count": 1,
   "id": "b770c9e3",
   "metadata": {},
   "outputs": [],
   "source": [
    "import pandas as pd\n",
    "import numpy as np\n",
    "import matplotlib.pyplot as plt                                    \n",
    "import seaborn as sns                                              \n",
    "%matplotlib inline\n",
    "import pyodbc\n",
    "from datetime import datetime\n",
    "import scipy.stats as stats\n",
    "import matplotlib.pyplot as plt\n",
    "import pandas.io.sql\n",
    "import xlwings as xw"
   ]
  },
  {
   "cell_type": "code",
   "execution_count": 2,
   "id": "69aef16b",
   "metadata": {},
   "outputs": [],
   "source": [
    "import textwrap"
   ]
  },
  {
   "cell_type": "code",
   "execution_count": 3,
   "id": "eb595d78",
   "metadata": {},
   "outputs": [
    {
     "data": {
      "text/plain": [
       "['SQL Server',\n",
       " 'SQL Server Native Client 11.0',\n",
       " 'ODBC Driver 17 for SQL Server',\n",
       " 'Microsoft Access Driver (*.mdb, *.accdb)',\n",
       " 'Microsoft Excel Driver (*.xls, *.xlsx, *.xlsm, *.xlsb)',\n",
       " 'Microsoft Access Text Driver (*.txt, *.csv)']"
      ]
     },
     "execution_count": 3,
     "metadata": {},
     "output_type": "execute_result"
    }
   ],
   "source": [
    "pyodbc.drivers()"
   ]
  },
  {
   "cell_type": "code",
   "execution_count": 4,
   "id": "593141b3",
   "metadata": {},
   "outputs": [],
   "source": [
    "connection_str=\"\"\"DRIVER={ODBC Driver 17 for SQL Server};\n",
    "                  SERVER=NB210628FEGDWPX\\SQLEXPRESS;\n",
    "                  Database=testDatabase;\n",
    "                  UID=user1;\n",
    "                  PWD=1234;\n",
    "                  Trusted_Connection=yes;\"\"\""
   ]
  },
  {
   "cell_type": "code",
   "execution_count": 5,
   "id": "60a582de",
   "metadata": {},
   "outputs": [
    {
     "ename": "OperationalError",
     "evalue": "('08001', '[08001] [Microsoft][ODBC Driver 17 for SQL Server]MAX_PROVS: Error Locating Server/Instance Specified [xFFFFFFFF].  (-1) (SQLDriverConnect); [08001] [Microsoft][ODBC Driver 17 for SQL Server]Login timeout expired (0); [08001] [Microsoft][ODBC Driver 17 for SQL Server]A network-related or instance-specific error has occurred while establishing a connection to SQL Server. Server is not found or not accessible. Check if instance name is correct and if SQL Server is configured to allow remote connections. For more information see SQL Server Books Online. (-1)')",
     "output_type": "error",
     "traceback": [
      "\u001b[1;31m---------------------------------------------------------------------------\u001b[0m",
      "\u001b[1;31mOperationalError\u001b[0m                          Traceback (most recent call last)",
      "\u001b[1;32mc:\\Users\\kendrav\\Downloads\\test (1).ipynb Cell 5'\u001b[0m in \u001b[0;36m<module>\u001b[1;34m\u001b[0m\n\u001b[1;32m----> <a href='vscode-notebook-cell:/c%3A/Users/kendrav/Downloads/test%20%281%29.ipynb#ch0000004?line=0'>1</a>\u001b[0m conn \u001b[39m=\u001b[39m pyodbc\u001b[39m.\u001b[39;49mconnect(connection_str)\n",
      "\u001b[1;31mOperationalError\u001b[0m: ('08001', '[08001] [Microsoft][ODBC Driver 17 for SQL Server]MAX_PROVS: Error Locating Server/Instance Specified [xFFFFFFFF].  (-1) (SQLDriverConnect); [08001] [Microsoft][ODBC Driver 17 for SQL Server]Login timeout expired (0); [08001] [Microsoft][ODBC Driver 17 for SQL Server]A network-related or instance-specific error has occurred while establishing a connection to SQL Server. Server is not found or not accessible. Check if instance name is correct and if SQL Server is configured to allow remote connections. For more information see SQL Server Books Online. (-1)')"
     ]
    }
   ],
   "source": [
    "conn = pyodbc.connect(connection_str)"
   ]
  },
  {
   "cell_type": "code",
   "execution_count": null,
   "id": "ef6cb4fb",
   "metadata": {},
   "outputs": [],
   "source": [
    "curser=conn.cursor()"
   ]
  },
  {
   "cell_type": "code",
   "execution_count": null,
   "id": "3dc55bf3",
   "metadata": {},
   "outputs": [
    {
     "data": {
      "text/plain": [
       "<pyodbc.Connection at 0x1f2680fdd30>"
      ]
     },
     "execution_count": 71,
     "metadata": {},
     "output_type": "execute_result"
    }
   ],
   "source": [
    "conn"
   ]
  },
  {
   "cell_type": "code",
   "execution_count": 72,
   "id": "03ce8407",
   "metadata": {},
   "outputs": [],
   "source": [
    "df = pd.read_excel('C:/Users/guptamu/Desktop/Avinash_Planning_team/Final_IHRT.xlsx')"
   ]
  },
  {
   "cell_type": "code",
   "execution_count": 73,
   "id": "c1cbb602",
   "metadata": {},
   "outputs": [
    {
     "data": {
      "text/plain": [
       "Index(['Company ID', 'Country', 'Company Description', 'Pdt Code',\n",
       "       'Pdt Description', 'Formula Code', 'WH code', 'Stock Unit',\n",
       "       'Material Type Desc', 'Origin Region', 'Last 3m History_Stock',\n",
       "       'Last 6m History ', 'Company Product 12m (UoM)', 'Last 3m History_USD',\n",
       "       'Company Product 6m (USD)', 'Company Product 12m (USD)',\n",
       "       'Cycle + Safety (Healthy) (StockUnit)2',\n",
       "       'Cycle + Safety (Healthy) in USD2', 'Risk Status',\n",
       "       'Risk / Non Productive in USD', '# Days of Inventoryonhand2',\n",
       "       'Std Cost in USD', 'Qty On Hand (in Stock Unit)2',\n",
       "       'Total Inv Value (USD)2', 'Overstock (StockUnit)2', 'Overstock in USD2',\n",
       "       'Targeted DOH', 'System Data Source', 'Anticipatory in USD',\n",
       "       'Anticipatory KGs in USD'],\n",
       "      dtype='object')"
      ]
     },
     "execution_count": 73,
     "metadata": {},
     "output_type": "execute_result"
    }
   ],
   "source": [
    "df.columns"
   ]
  },
  {
   "cell_type": "code",
   "execution_count": 74,
   "id": "5105ffbc",
   "metadata": {},
   "outputs": [
    {
     "data": {
      "text/plain": [
       "<pyodbc.Cursor at 0x1f268242eb0>"
      ]
     },
     "execution_count": 74,
     "metadata": {},
     "output_type": "execute_result"
    }
   ],
   "source": [
    "curser.execute(\"\"\" CREATE TABLE [dbo].[Test_IHRT_01](\n",
    "                                                    [Company ID] nvarchar(max),\n",
    "                                                    [Country] nvarchar(max),\n",
    "                                                    [Company Description] nvarchar(max),\n",
    "                                                    [Pdt Code] nvarchar(max),\n",
    "                                                    [Pdt Description] nvarchar(max),\n",
    "                                                    [Formula Code] nvarchar(max),\n",
    "                                                    [WH code] nvarchar(max),\n",
    "                                                    [Stock Unit] nvarchar(max),\n",
    "                                                    [Material Type Desc] nvarchar(max),\n",
    "                                                    [Origin Region] nvarchar(max),\n",
    "                                                    [Last 3m History_Stock] nvarchar(max),\n",
    "                                                    [Last 6m History ] nvarchar(max),\n",
    "                                                    [Company Product 12m (UoM)] nvarchar(max),\n",
    "                                                    [Last 3m History_USD] nvarchar(max),\n",
    "                                                    [Company Product 6m (USD)] nvarchar(max),\n",
    "                                                    [Company Product 12m (USD)] nvarchar(max),\n",
    "                                                    [Cycle + Safety (Healthy) (StockUnit)2]nvarchar(max),\n",
    "                                                    [Cycle + Safety (Healthy) in USD2] nvarchar(max),\n",
    "                                                    [Risk Status] nvarchar(max),\n",
    "                                                    [Risk / Non Productive in USD] nvarchar(max),\n",
    "                                                    [# Days of Inventoryonhand2] nvarchar(max),\n",
    "                                                    [Std Cost in USD]nvarchar(max),\n",
    "                                                    [Qty On Hand (in Stock Unit)2] nvarchar(max),\n",
    "                                                    [Total Inv Value (USD)2] nvarchar(max),\n",
    "                                                    [Overstock (StockUnit)2]nvarchar(max),\n",
    "                                                    [Overstock in USD2] nvarchar(max),\n",
    "                                                    [Targeted DOH] nvarchar(max),\n",
    "                                                    [System Data Source] nvarchar(max),\n",
    "                                                    [Anticipatory KGs in USD]nvarchar(max),\n",
    "                                                    [Lastexecute]nvarchar(max)\n",
    "                                                    )\n",
    "                                                    \"\"\")"
   ]
  },
  {
   "cell_type": "code",
   "execution_count": 75,
   "id": "8ce66159",
   "metadata": {},
   "outputs": [],
   "source": [
    "conn.commit()"
   ]
  },
  {
   "cell_type": "code",
   "execution_count": 76,
   "id": "4a3c234a",
   "metadata": {},
   "outputs": [],
   "source": [
    "df=df.fillna(0)"
   ]
  },
  {
   "cell_type": "code",
   "execution_count": 77,
   "id": "9dc28a5b",
   "metadata": {},
   "outputs": [
    {
     "data": {
      "text/html": [
       "<div>\n",
       "<style scoped>\n",
       "    .dataframe tbody tr th:only-of-type {\n",
       "        vertical-align: middle;\n",
       "    }\n",
       "\n",
       "    .dataframe tbody tr th {\n",
       "        vertical-align: top;\n",
       "    }\n",
       "\n",
       "    .dataframe thead th {\n",
       "        text-align: right;\n",
       "    }\n",
       "</style>\n",
       "<table border=\"1\" class=\"dataframe\">\n",
       "  <thead>\n",
       "    <tr style=\"text-align: right;\">\n",
       "      <th></th>\n",
       "      <th>Company ID</th>\n",
       "      <th>Country</th>\n",
       "      <th>Company Description</th>\n",
       "      <th>Pdt Code</th>\n",
       "      <th>Pdt Description</th>\n",
       "      <th>Formula Code</th>\n",
       "      <th>WH code</th>\n",
       "      <th>Stock Unit</th>\n",
       "      <th>Material Type Desc</th>\n",
       "      <th>Origin Region</th>\n",
       "      <th>...</th>\n",
       "      <th># Days of Inventoryonhand2</th>\n",
       "      <th>Std Cost in USD</th>\n",
       "      <th>Qty On Hand (in Stock Unit)2</th>\n",
       "      <th>Total Inv Value (USD)2</th>\n",
       "      <th>Overstock (StockUnit)2</th>\n",
       "      <th>Overstock in USD2</th>\n",
       "      <th>Targeted DOH</th>\n",
       "      <th>System Data Source</th>\n",
       "      <th>Anticipatory in USD</th>\n",
       "      <th>Anticipatory KGs in USD</th>\n",
       "    </tr>\n",
       "  </thead>\n",
       "  <tbody>\n",
       "    <tr>\n",
       "      <th>0</th>\n",
       "      <td>ID10</td>\n",
       "      <td>INDONESIA</td>\n",
       "      <td>(blank)</td>\n",
       "      <td>10/3 -100510</td>\n",
       "      <td>BENDUROL G-105 2/5 LTR</td>\n",
       "      <td>0</td>\n",
       "      <td>J67</td>\n",
       "      <td>CTN</td>\n",
       "      <td>0</td>\n",
       "      <td>Mfr</td>\n",
       "      <td>...</td>\n",
       "      <td>0</td>\n",
       "      <td>13.753903</td>\n",
       "      <td>0</td>\n",
       "      <td>0</td>\n",
       "      <td>0</td>\n",
       "      <td>0</td>\n",
       "      <td>30</td>\n",
       "      <td>Mvt History</td>\n",
       "      <td>0</td>\n",
       "      <td>0</td>\n",
       "    </tr>\n",
       "    <tr>\n",
       "      <th>1</th>\n",
       "      <td>ID10</td>\n",
       "      <td>INDONESIA</td>\n",
       "      <td>0</td>\n",
       "      <td>10/3 -100510</td>\n",
       "      <td>BENDUROL G-105 2/5 LTR</td>\n",
       "      <td>902726-Ecolab</td>\n",
       "      <td>B1</td>\n",
       "      <td>CTN</td>\n",
       "      <td>Finish Good</td>\n",
       "      <td>Mfr</td>\n",
       "      <td>...</td>\n",
       "      <td>53.20034</td>\n",
       "      <td>13.753903</td>\n",
       "      <td>19</td>\n",
       "      <td>257.905996</td>\n",
       "      <td>0.913043</td>\n",
       "      <td>11.979658</td>\n",
       "      <td>30</td>\n",
       "      <td>ACCPAC</td>\n",
       "      <td>0</td>\n",
       "      <td>0</td>\n",
       "    </tr>\n",
       "    <tr>\n",
       "      <th>2</th>\n",
       "      <td>ID10</td>\n",
       "      <td>INDONESIA</td>\n",
       "      <td>0</td>\n",
       "      <td>10/3 -100510</td>\n",
       "      <td>BENDUROL G-105 2/5 LTR</td>\n",
       "      <td>902726-Ecolab</td>\n",
       "      <td>J1</td>\n",
       "      <td>CTN</td>\n",
       "      <td>Finish Good</td>\n",
       "      <td>Mfr</td>\n",
       "      <td>...</td>\n",
       "      <td>100.046549</td>\n",
       "      <td>13.753903</td>\n",
       "      <td>141</td>\n",
       "      <td>1913.933974</td>\n",
       "      <td>62.26087</td>\n",
       "      <td>856.329995</td>\n",
       "      <td>30</td>\n",
       "      <td>ACCPAC</td>\n",
       "      <td>0</td>\n",
       "      <td>0</td>\n",
       "    </tr>\n",
       "    <tr>\n",
       "      <th>3</th>\n",
       "      <td>ID10</td>\n",
       "      <td>INDONESIA</td>\n",
       "      <td>0</td>\n",
       "      <td>10/3 -100510</td>\n",
       "      <td>BENDUROL G-105 2/5 LTR</td>\n",
       "      <td>902726-Ecolab</td>\n",
       "      <td>MK1</td>\n",
       "      <td>CTN</td>\n",
       "      <td>Finish Good</td>\n",
       "      <td>Mfr</td>\n",
       "      <td>...</td>\n",
       "      <td>56.694662</td>\n",
       "      <td>13.753903</td>\n",
       "      <td>10</td>\n",
       "      <td>135.574192</td>\n",
       "      <td>4.782609</td>\n",
       "      <td>65.779527</td>\n",
       "      <td>30</td>\n",
       "      <td>ACCPAC</td>\n",
       "      <td>0</td>\n",
       "      <td>0</td>\n",
       "    </tr>\n",
       "    <tr>\n",
       "      <th>4</th>\n",
       "      <td>ID10</td>\n",
       "      <td>INDONESIA</td>\n",
       "      <td>0</td>\n",
       "      <td>10/3 -100510</td>\n",
       "      <td>BENDUROL G-105 2/5 LTR</td>\n",
       "      <td>902726-Ecolab</td>\n",
       "      <td>NGP</td>\n",
       "      <td>CTN</td>\n",
       "      <td>Finish Good</td>\n",
       "      <td>Mfr</td>\n",
       "      <td>...</td>\n",
       "      <td>0</td>\n",
       "      <td>13.753903</td>\n",
       "      <td>17</td>\n",
       "      <td>230.476126</td>\n",
       "      <td>0</td>\n",
       "      <td>0</td>\n",
       "      <td>30</td>\n",
       "      <td>ACCPAC</td>\n",
       "      <td>0</td>\n",
       "      <td>0</td>\n",
       "    </tr>\n",
       "  </tbody>\n",
       "</table>\n",
       "<p>5 rows × 30 columns</p>\n",
       "</div>"
      ],
      "text/plain": [
       "  Company ID    Country Company Description      Pdt Code  \\\n",
       "0       ID10  INDONESIA             (blank)  10/3 -100510   \n",
       "1       ID10  INDONESIA                   0  10/3 -100510   \n",
       "2       ID10  INDONESIA                   0  10/3 -100510   \n",
       "3       ID10  INDONESIA                   0  10/3 -100510   \n",
       "4       ID10  INDONESIA                   0  10/3 -100510   \n",
       "\n",
       "          Pdt Description   Formula Code WH code Stock Unit  \\\n",
       "0  BENDUROL G-105 2/5 LTR              0     J67        CTN   \n",
       "1  BENDUROL G-105 2/5 LTR  902726-Ecolab      B1        CTN   \n",
       "2  BENDUROL G-105 2/5 LTR  902726-Ecolab      J1        CTN   \n",
       "3  BENDUROL G-105 2/5 LTR  902726-Ecolab     MK1        CTN   \n",
       "4  BENDUROL G-105 2/5 LTR  902726-Ecolab     NGP        CTN   \n",
       "\n",
       "  Material Type Desc Origin Region  ... # Days of Inventoryonhand2  \\\n",
       "0                  0           Mfr  ...                          0   \n",
       "1        Finish Good           Mfr  ...                   53.20034   \n",
       "2        Finish Good           Mfr  ...                 100.046549   \n",
       "3        Finish Good           Mfr  ...                  56.694662   \n",
       "4        Finish Good           Mfr  ...                          0   \n",
       "\n",
       "  Std Cost in USD Qty On Hand (in Stock Unit)2  Total Inv Value (USD)2  \\\n",
       "0       13.753903                            0                       0   \n",
       "1       13.753903                           19              257.905996   \n",
       "2       13.753903                          141             1913.933974   \n",
       "3       13.753903                           10              135.574192   \n",
       "4       13.753903                           17              230.476126   \n",
       "\n",
       "  Overstock (StockUnit)2 Overstock in USD2 Targeted DOH System Data Source  \\\n",
       "0                      0                 0           30        Mvt History   \n",
       "1               0.913043         11.979658           30             ACCPAC   \n",
       "2               62.26087        856.329995           30             ACCPAC   \n",
       "3               4.782609         65.779527           30             ACCPAC   \n",
       "4                      0                 0           30             ACCPAC   \n",
       "\n",
       "  Anticipatory in USD Anticipatory KGs in USD  \n",
       "0                   0                       0  \n",
       "1                   0                       0  \n",
       "2                   0                       0  \n",
       "3                   0                       0  \n",
       "4                   0                       0  \n",
       "\n",
       "[5 rows x 30 columns]"
      ]
     },
     "execution_count": 77,
     "metadata": {},
     "output_type": "execute_result"
    }
   ],
   "source": [
    "df.head()"
   ]
  },
  {
   "cell_type": "code",
   "execution_count": 78,
   "id": "ae100755",
   "metadata": {},
   "outputs": [],
   "source": [
    "data_value=df.values"
   ]
  },
  {
   "cell_type": "code",
   "execution_count": 79,
   "id": "5b34920c",
   "metadata": {},
   "outputs": [
    {
     "data": {
      "text/plain": [
       "48086"
      ]
     },
     "execution_count": 79,
     "metadata": {},
     "output_type": "execute_result"
    }
   ],
   "source": [
    "len(data_value)"
   ]
  },
  {
   "cell_type": "code",
   "execution_count": 80,
   "id": "fdbd8a5d",
   "metadata": {},
   "outputs": [],
   "source": [
    "for index, row in enumerate(data_value):\n",
    "    \n",
    "#     define an insert query with place holders for the values.\n",
    "    insert_query = textwrap.dedent('''\n",
    "        INSERT INTO dbo.Test_IHRT_01 ([Company ID]\n",
    "                                          ,[Country]\n",
    "                                          ,[Company Description]\n",
    "                                          ,[Pdt Code]\n",
    "                                          ,[Pdt Description]\n",
    "                                          ,[Formula Code]\n",
    "                                          ,[WH code]\n",
    "                                          ,[Stock Unit]\n",
    "                                          ,[Material Type Desc]\n",
    "                                          ,[Origin Region]\n",
    "                                          ,[Last 3m History_Stock]\n",
    "                                          ,[Last 6m History ]\n",
    "                                          ,[Company Product 12m (UoM)]\n",
    "                                          ,[Last 3m History_USD]\n",
    "                                          ,[Company Product 6m (USD)]\n",
    "                                          ,[Company Product 12m (USD)]\n",
    "                                          ,[Cycle + Safety (Healthy) (StockUnit)2]\n",
    "                                          ,[Cycle + Safety (Healthy) in USD2]\n",
    "                                          ,[Risk Status]\n",
    "                                          ,[Risk / Non Productive in USD]\n",
    "                                          ,[# Days of Inventoryonhand2]\n",
    "                                          ,[Std Cost in USD]\n",
    "                                          ,[Qty On Hand (in Stock Unit)2]\n",
    "                                          ,[Total Inv Value (USD)2]\n",
    "                                          ,[Overstock (StockUnit)2]\n",
    "                                          ,[Overstock in USD2]\n",
    "                                          ,[Targeted DOH]\n",
    "                                          ,[System Data Source]\n",
    "                                          ,[Anticipatory KGs in USD]\n",
    "                                          ,[Lastexecute]) \n",
    "        VALUES (?,?,?,?,?,?,?,?,?,?,?,?,?,?,?,?,?,?,?,?,?,?,?,?,?,?,?,?,?,?);\n",
    "    ''')\n",
    "    \n",
    "    # define the values\n",
    "    values = (row[0], row[1], row[2], row[3], row[4], row[5],row[6], row[7], row[8], row[9], row[10], row[11],row[12], row[13], row[14], row[15], row[16], row[17],row[18], row[19], row[20], row[21], row[22], row[23],row[24], row[25], row[26], row[27], row[28], row[29])\n",
    "#     print(len(values))\n",
    "    # insert the data into the database\n",
    "    curser.execute(insert_query, values)\n"
   ]
  },
  {
   "cell_type": "code",
   "execution_count": 81,
   "id": "987fd162",
   "metadata": {},
   "outputs": [],
   "source": [
    "conn.commit()"
   ]
  },
  {
   "cell_type": "code",
   "execution_count": null,
   "id": "69f65652",
   "metadata": {},
   "outputs": [],
   "source": []
  }
 ],
 "metadata": {
  "kernelspec": {
   "display_name": "Python 3 (ipykernel)",
   "language": "python",
   "name": "python3"
  },
  "language_info": {
   "codemirror_mode": {
    "name": "ipython",
    "version": 3
   },
   "file_extension": ".py",
   "mimetype": "text/x-python",
   "name": "python",
   "nbconvert_exporter": "python",
   "pygments_lexer": "ipython3",
   "version": "3.9.12"
  }
 },
 "nbformat": 4,
 "nbformat_minor": 5
}
